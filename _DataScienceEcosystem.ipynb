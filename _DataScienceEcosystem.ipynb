{
 "cells": [
  {
   "cell_type": "markdown",
   "id": "eacc2e30-a915-4187-b718-e1e53cb63b80",
   "metadata": {},
   "source": [
    "# Data Science Tools and Ecosystem"
   ]
  },
  {
   "cell_type": "markdown",
   "id": "6e1bd2ec-99a2-43d5-b3b0-8a40b2441fe2",
   "metadata": {},
   "source": [
    "En este cuaderno, se resumen las herramientas y ecosistemas de ciencia de datos."
   ]
  },
  {
   "cell_type": "code",
   "execution_count": null,
   "id": "b19ddf13-5ba2-484f-bc28-ebd2aefe1692",
   "metadata": {},
   "outputs": [],
   "source": [
    "**Objetivos:**\n",
    "- Lenguajes populares que utilizan los científicos de datos\n",
    "- Bibliotecas comúnmente utilizadas por los científicos de datos\n",
    "- Herramientas de Ciencia de Datos"
   ]
  },
  {
   "cell_type": "markdown",
   "id": "d52e6689-d86d-42fb-badf-ad8eeb882521",
   "metadata": {},
   "source": [
    "## Autor\n",
    "Juan Millan"
   ]
  },
  {
   "cell_type": "markdown",
   "id": "486f654d-1b3e-4037-8dcf-c6f498ddc753",
   "metadata": {},
   "source": [
    "Algunos de los lenguajes populares que utilizan los científicos de datos son:\n",
    "1. Python\n",
    "2. R\n",
    "3. SQL"
   ]
  },
  {
   "cell_type": "markdown",
   "id": "60439e1a-b6a3-45cb-af55-c24e61dd18f4",
   "metadata": {},
   "source": [
    "Algunas de las bibliotecas comúnmente utilizadas por los científicos de datos incluyen:\n",
    "1. Pandas\n",
    "2. NumPy\n",
    "3. Matplotlib"
   ]
  },
  {
   "cell_type": "markdown",
   "id": "de051025-4753-45d9-a9f3-98f63b506e27",
   "metadata": {},
   "source": [
    "| Herramientas de Ciencia de Datos |\n",
    "|---------------------------|\n",
    "| 1. Python (con Pandas, NumPy, Scikit-Learn) |\n",
    "| 2. R (con ggplot2, dplyr, caret) |\n",
    "| 3. Jupyter Notebooks |"
   ]
  },
  {
   "cell_type": "markdown",
   "id": "c91a587b-4027-4bda-8e15-d7c3978f0709",
   "metadata": {},
   "source": [
    "### A continuación, se presentan algunos ejemplos de evaluación de expresiones aritméticas en Python."
   ]
  },
  {
   "cell_type": "code",
   "execution_count": 1,
   "id": "0c2d8d09-ad13-4a31-b48e-c1dcca7316fd",
   "metadata": {},
   "outputs": [
    {
     "data": {
      "text/plain": [
       "17"
      ]
     },
     "execution_count": 1,
     "metadata": {},
     "output_type": "execute_result"
    }
   ],
   "source": [
    "# Esta es una expresión aritmética simple para multiplicar y luego sumar enteros\n",
    "(3*4)+5"
   ]
  },
  {
   "cell_type": "code",
   "execution_count": 3,
   "id": "0e7eab27-c9e2-4ac9-bb20-f3c8ff106416",
   "metadata": {},
   "outputs": [
    {
     "data": {
      "text/plain": [
       "3.3333333333333335"
      ]
     },
     "execution_count": 3,
     "metadata": {},
     "output_type": "execute_result"
    }
   ],
   "source": [
    "# Esto convertirá 200 minutos a horas dividiendo por 60\n",
    "200 / 60"
   ]
  },
  {
   "cell_type": "code",
   "execution_count": null,
   "id": "ad975eae-6def-4824-bcf5-343923755538",
   "metadata": {},
   "outputs": [],
   "source": []
  }
 ],
 "metadata": {
  "kernelspec": {
   "display_name": "Python [conda env:.conda-MyEnv]",
   "language": "python",
   "name": "conda-env-.conda-MyEnv-py"
  },
  "language_info": {
   "codemirror_mode": {
    "name": "ipython",
    "version": 3
   },
   "file_extension": ".py",
   "mimetype": "text/x-python",
   "name": "python",
   "nbconvert_exporter": "python",
   "pygments_lexer": "ipython3",
   "version": "3.12.8"
  }
 },
 "nbformat": 4,
 "nbformat_minor": 5
}
